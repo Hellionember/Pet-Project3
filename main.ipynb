{
 "cells": [
  {
   "cell_type": "code",
   "execution_count": 53,
   "metadata": {},
   "outputs": [],
   "source": [
    "import pandas as pd\n",
    "import matplotlib.pyplot as plt\n",
    "import pandasql as ps\n",
    "import seaborn as sns"
   ]
  },
  {
   "cell_type": "code",
   "execution_count": 12,
   "metadata": {},
   "outputs": [],
   "source": [
    "data = pd.read_csv('QVI_data.csv')"
   ]
  },
  {
   "cell_type": "code",
   "execution_count": 14,
   "metadata": {},
   "outputs": [
    {
     "name": "stdout",
     "output_type": "stream",
     "text": [
      "<class 'pandas.core.frame.DataFrame'>\n",
      "RangeIndex: 264834 entries, 0 to 264833\n",
      "Data columns (total 12 columns):\n",
      " #   Column            Non-Null Count   Dtype  \n",
      "---  ------            --------------   -----  \n",
      " 0   LYLTY_CARD_NBR    264834 non-null  int64  \n",
      " 1   DATE              264834 non-null  object \n",
      " 2   STORE_NBR         264834 non-null  int64  \n",
      " 3   TXN_ID            264834 non-null  int64  \n",
      " 4   PROD_NBR          264834 non-null  int64  \n",
      " 5   PROD_NAME         264834 non-null  object \n",
      " 6   PROD_QTY          264834 non-null  int64  \n",
      " 7   TOT_SALES         264834 non-null  float64\n",
      " 8   PACK_SIZE         264834 non-null  int64  \n",
      " 9   BRAND             264834 non-null  object \n",
      " 10  LIFESTAGE         264834 non-null  object \n",
      " 11  PREMIUM_CUSTOMER  264834 non-null  object \n",
      "dtypes: float64(1), int64(6), object(5)\n",
      "memory usage: 24.2+ MB\n"
     ]
    }
   ],
   "source": [
    "data.info()"
   ]
  },
  {
   "cell_type": "code",
   "execution_count": 16,
   "metadata": {},
   "outputs": [],
   "source": [
    "query = '''\n",
    "    SELECT *\n",
    "    FROM data\n",
    "    WHERE STORE_NBR IN (77, 88, 86)\n",
    "    '''\n",
    "\n",
    "data_stores_77_86_88 = ps.sqldf(query)\n",
    "\n",
    "# data_stories_77_86_88 = data.query('STORE_NBR in [77, 88, 86]')\n",
    "# data_stores_77_86_88 = data[data['STORE_NBR'].isin([77, 88, 86])]"
   ]
  },
  {
   "cell_type": "code",
   "execution_count": 17,
   "metadata": {},
   "outputs": [
    {
     "data": {
      "text/html": [
       "<div>\n",
       "<style scoped>\n",
       "    .dataframe tbody tr th:only-of-type {\n",
       "        vertical-align: middle;\n",
       "    }\n",
       "\n",
       "    .dataframe tbody tr th {\n",
       "        vertical-align: top;\n",
       "    }\n",
       "\n",
       "    .dataframe thead th {\n",
       "        text-align: right;\n",
       "    }\n",
       "</style>\n",
       "<table border=\"1\" class=\"dataframe\">\n",
       "  <thead>\n",
       "    <tr style=\"text-align: right;\">\n",
       "      <th></th>\n",
       "      <th>LYLTY_CARD_NBR</th>\n",
       "      <th>DATE</th>\n",
       "      <th>STORE_NBR</th>\n",
       "      <th>TXN_ID</th>\n",
       "      <th>PROD_NBR</th>\n",
       "      <th>PROD_NAME</th>\n",
       "      <th>PROD_QTY</th>\n",
       "      <th>TOT_SALES</th>\n",
       "      <th>PACK_SIZE</th>\n",
       "      <th>BRAND</th>\n",
       "      <th>LIFESTAGE</th>\n",
       "      <th>PREMIUM_CUSTOMER</th>\n",
       "    </tr>\n",
       "  </thead>\n",
       "  <tbody>\n",
       "    <tr>\n",
       "      <th>0</th>\n",
       "      <td>77000</td>\n",
       "      <td>2019-03-28</td>\n",
       "      <td>77</td>\n",
       "      <td>74911</td>\n",
       "      <td>18</td>\n",
       "      <td>Cheetos Chs &amp; Bacon Balls 190g</td>\n",
       "      <td>1</td>\n",
       "      <td>3.3</td>\n",
       "      <td>190</td>\n",
       "      <td>CHEETOS</td>\n",
       "      <td>MIDAGE SINGLES/COUPLES</td>\n",
       "      <td>Budget</td>\n",
       "    </tr>\n",
       "    <tr>\n",
       "      <th>1</th>\n",
       "      <td>77000</td>\n",
       "      <td>2019-04-13</td>\n",
       "      <td>77</td>\n",
       "      <td>74912</td>\n",
       "      <td>69</td>\n",
       "      <td>Smiths Chip Thinly  S/Cream&amp;Onion 175g</td>\n",
       "      <td>1</td>\n",
       "      <td>3.0</td>\n",
       "      <td>175</td>\n",
       "      <td>SMITHS</td>\n",
       "      <td>MIDAGE SINGLES/COUPLES</td>\n",
       "      <td>Budget</td>\n",
       "    </tr>\n",
       "    <tr>\n",
       "      <th>2</th>\n",
       "      <td>77000</td>\n",
       "      <td>2018-09-26</td>\n",
       "      <td>77</td>\n",
       "      <td>74910</td>\n",
       "      <td>36</td>\n",
       "      <td>Kettle Chilli 175g</td>\n",
       "      <td>2</td>\n",
       "      <td>10.8</td>\n",
       "      <td>175</td>\n",
       "      <td>KETTLE</td>\n",
       "      <td>MIDAGE SINGLES/COUPLES</td>\n",
       "      <td>Budget</td>\n",
       "    </tr>\n",
       "    <tr>\n",
       "      <th>3</th>\n",
       "      <td>77001</td>\n",
       "      <td>2019-02-27</td>\n",
       "      <td>77</td>\n",
       "      <td>74913</td>\n",
       "      <td>7</td>\n",
       "      <td>Smiths Crinkle      Original 330g</td>\n",
       "      <td>2</td>\n",
       "      <td>11.4</td>\n",
       "      <td>330</td>\n",
       "      <td>SMITHS</td>\n",
       "      <td>YOUNG FAMILIES</td>\n",
       "      <td>Mainstream</td>\n",
       "    </tr>\n",
       "    <tr>\n",
       "      <th>4</th>\n",
       "      <td>77001</td>\n",
       "      <td>2019-01-21</td>\n",
       "      <td>77</td>\n",
       "      <td>74914</td>\n",
       "      <td>9</td>\n",
       "      <td>Kettle Tortilla ChpsBtroot&amp;Ricotta 150g</td>\n",
       "      <td>2</td>\n",
       "      <td>9.2</td>\n",
       "      <td>150</td>\n",
       "      <td>KETTLE</td>\n",
       "      <td>YOUNG FAMILIES</td>\n",
       "      <td>Mainstream</td>\n",
       "    </tr>\n",
       "  </tbody>\n",
       "</table>\n",
       "</div>"
      ],
      "text/plain": [
       "   LYLTY_CARD_NBR        DATE  STORE_NBR  TXN_ID  PROD_NBR  \\\n",
       "0           77000  2019-03-28         77   74911        18   \n",
       "1           77000  2019-04-13         77   74912        69   \n",
       "2           77000  2018-09-26         77   74910        36   \n",
       "3           77001  2019-02-27         77   74913         7   \n",
       "4           77001  2019-01-21         77   74914         9   \n",
       "\n",
       "                                 PROD_NAME  PROD_QTY  TOT_SALES  PACK_SIZE  \\\n",
       "0           Cheetos Chs & Bacon Balls 190g         1        3.3        190   \n",
       "1   Smiths Chip Thinly  S/Cream&Onion 175g         1        3.0        175   \n",
       "2                       Kettle Chilli 175g         2       10.8        175   \n",
       "3        Smiths Crinkle      Original 330g         2       11.4        330   \n",
       "4  Kettle Tortilla ChpsBtroot&Ricotta 150g         2        9.2        150   \n",
       "\n",
       "     BRAND               LIFESTAGE PREMIUM_CUSTOMER  \n",
       "0  CHEETOS  MIDAGE SINGLES/COUPLES           Budget  \n",
       "1   SMITHS  MIDAGE SINGLES/COUPLES           Budget  \n",
       "2   KETTLE  MIDAGE SINGLES/COUPLES           Budget  \n",
       "3   SMITHS          YOUNG FAMILIES       Mainstream  \n",
       "4   KETTLE          YOUNG FAMILIES       Mainstream  "
      ]
     },
     "execution_count": 17,
     "metadata": {},
     "output_type": "execute_result"
    }
   ],
   "source": [
    "data_stores_77_86_88.head()"
   ]
  },
  {
   "cell_type": "code",
   "execution_count": 39,
   "metadata": {},
   "outputs": [
    {
     "data": {
      "text/html": [
       "<div>\n",
       "<style scoped>\n",
       "    .dataframe tbody tr th:only-of-type {\n",
       "        vertical-align: middle;\n",
       "    }\n",
       "\n",
       "    .dataframe tbody tr th {\n",
       "        vertical-align: top;\n",
       "    }\n",
       "\n",
       "    .dataframe thead th {\n",
       "        text-align: right;\n",
       "    }\n",
       "</style>\n",
       "<table border=\"1\" class=\"dataframe\">\n",
       "  <thead>\n",
       "    <tr style=\"text-align: right;\">\n",
       "      <th></th>\n",
       "      <th>store</th>\n",
       "      <th>customers</th>\n",
       "    </tr>\n",
       "  </thead>\n",
       "  <tbody>\n",
       "    <tr>\n",
       "      <th>2</th>\n",
       "      <td>88</td>\n",
       "      <td>388</td>\n",
       "    </tr>\n",
       "    <tr>\n",
       "      <th>0</th>\n",
       "      <td>77</td>\n",
       "      <td>356</td>\n",
       "    </tr>\n",
       "    <tr>\n",
       "      <th>1</th>\n",
       "      <td>86</td>\n",
       "      <td>273</td>\n",
       "    </tr>\n",
       "  </tbody>\n",
       "</table>\n",
       "</div>"
      ],
      "text/plain": [
       "   store  customers\n",
       "2     88        388\n",
       "0     77        356\n",
       "1     86        273"
      ]
     },
     "execution_count": 39,
     "metadata": {},
     "output_type": "execute_result"
    }
   ],
   "source": [
    "query = '''\n",
    "    SELECT STORE_NBR AS store,\n",
    "           COUNT(DISTINCT LYLTY_CARD_NBR) AS customers\n",
    "    FROM data_stores_77_86_88\n",
    "    GROUP BY STORE_NBR\n",
    "    ORDER BY customers DESC\n",
    "    '''\n",
    "\n",
    "total_number_of_customers = ps.sqldf(query)\n",
    "\n",
    "# total_number_of_customers = data_stores_77_86_88.groupby('STORE_NBR')['LYLTY_CARD_NBR'].nunique().reset_index(name='customers')\n",
    "\n",
    "# total_number_of_customers = total_number_of_customers.sort_values('customers', ascending=False)\n",
    "\n",
    "# total_number_of_customers = total_number_of_customers.rename(columns={'STORE_NBR': 'store'})\n"
   ]
  },
  {
   "cell_type": "code",
   "execution_count": 60,
   "metadata": {},
   "outputs": [
    {
     "data": {
      "image/png": "[encoded data removed]",
      "text/plain": [
       "<Figure size 640x480 with 1 Axes>"
      ]
     },
     "metadata": {},
     "output_type": "display_data"
    }
   ],
   "source": [
    "sns.barplot(x='store', y='customers', data=total_number_of_customers)\n",
    "plt.xlabel('Магазин')\n",
    "plt.ylabel('Покупатели')\n",
    "plt.title('Количесвто уникальных покупателей магазинов')\n",
    "plt.show()"
   ]
  },
  {
   "cell_type": "markdown",
   "metadata": {},
   "source": [
    "комментарий 22222"
   ]
  }
 ],
 "metadata": {
  "kernelspec": {
   "display_name": "Pet-project",
   "language": "python",
   "name": "python3"
  },
  "language_info": {
   "codemirror_mode": {
    "name": "ipython",
    "version": 3
   },
   "file_extension": ".py",
   "mimetype": "text/x-python",
   "name": "python",
   "nbconvert_exporter": "python",
   "pygments_lexer": "ipython3",
   "version": "3.10.15"
  }
 },
 "nbformat": 4,
 "nbformat_minor": 2
}
